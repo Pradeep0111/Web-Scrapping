{
 "cells": [
  {
   "cell_type": "code",
   "execution_count": null,
   "id": "f33ae342",
   "metadata": {},
   "outputs": [],
   "source": []
  },
  {
   "cell_type": "code",
   "execution_count": 1,
   "id": "68908b4c",
   "metadata": {},
   "outputs": [
    {
     "name": "stdout",
     "output_type": "stream",
     "text": [
      "Enter the number of pages of WebScrap:2\n"
     ]
    }
   ],
   "source": [
    "import requests\n",
    "from bs4 import BeautifulSoup\n",
    "import pandas\n",
    "import sqlite3\n",
    "\n",
    "def connect(values):\n",
    "    con = sqlite3.connect(\"ebay.db\")\n",
    "    con.execute(\"CREATE TABLE IF NOT EXISTS PROJECT_1  (NAME TEXT ,BRAND TEXT ,PRICE TEXT ,MANF.COUNTRY TEXT)\")\n",
    "\n",
    "    for val in values:\n",
    "        try:\n",
    "            insert_sql = \"INSERT INTO PROJECT_1 (NAME, BRAND, PRICE, MANF.COUNTRY) VALUES(?,?,?,?,?)\"\n",
    "            con.execute(insert_sql, values)\n",
    "        except:\n",
    "            pass\n",
    "    cur = con.cursor()\n",
    "    con.execute(\"SELECT * FROM PROJECT1\")\n",
    "    table_data=cur.fetchall()\n",
    "    for record in table_data:\n",
    "        print(record)\n",
    "    con.commit()\n",
    "    con.close()\n",
    "    \n",
    "\n",
    "ebay_url=\"https://www.ebay.com/sch/i.html?_from=R40&_nkw=watch&_sacat=0&_pgn=\"\n",
    "\n",
    "page_num=int(input(\"Enter the number of pages of WebScrap:\"))\n",
    "scrapper=[]\n",
    "\n",
    "\n",
    "for page in range(1,page_num):\n",
    "    url = ebay_url + str(page) \n",
    "    req = requests.get(url)\n",
    "    content = req.content\n",
    "\n",
    "    soup =  BeautifulSoup(content,\"html.parser\")\n",
    "\n",
    "    all_watches=soup.find_all(\"div\",{\"class\":\"s-item__wrapper clearfix\"})\n",
    "    \n",
    "    for watches in all_watches:\n",
    "        watch_dict={}\n",
    "        watch_dict[\"watch_name\"]=watches.find(\"h3\",{\"class\":\"s-item__title\"}).text\n",
    "        \n",
    "        try:\n",
    "            watch_dict[\"watch_brand\"]=watches.find(\"div\",{\"class\":\"s-item__subtitle\"}).text\n",
    "        except AttributeError:\n",
    "            pass\n",
    "     \n",
    "        watch_dict[\"watch_price\"]=watches.find(\"div\",{\"class\":\"s-item__detail s-item__detail--primary\",}).text\n",
    "        \n",
    "        try:\n",
    "            watch_dict[\"watch_mnfcountry\"]=watches.find(\"span\",{\"class\":\"s-item__location s-item__itemLocation\"}).text\n",
    "        except AttributeError:\n",
    "            pass\n",
    "       \n",
    "        scrapper.append(watch_dict)\n",
    "dataframe=pandas.DataFrame(scrapper)\n",
    "dataframe.to_csv(\"PROJECT1.csv\")\n"
   ]
  }
 ],
 "metadata": {
  "kernelspec": {
   "display_name": "Python 3",
   "language": "python",
   "name": "python3"
  },
  "language_info": {
   "codemirror_mode": {
    "name": "ipython",
    "version": 3
   },
   "file_extension": ".py",
   "mimetype": "text/x-python",
   "name": "python",
   "nbconvert_exporter": "python",
   "pygments_lexer": "ipython3",
   "version": "3.9.2"
  }
 },
 "nbformat": 4,
 "nbformat_minor": 5
}
